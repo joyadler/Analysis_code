{
 "cells": [
  {
   "cell_type": "code",
   "execution_count": 41,
   "metadata": {},
   "outputs": [],
   "source": [
    "from LoadDataClass import load_patch as pc\n",
    "\n",
    "class analysis1_patch: \n",
    "\n",
    "    def __init__(self, path):\n",
    "        self.path = path\n",
    "        self.loadData = pc\n",
    "        self.calculate_baseline()\n",
    "        self.calculate_first_window()\n",
    "        self.first_peak()\n",
    "\n",
    "\n",
    "    def calculate_baseline(self, baseline_window_start = 50, baseline_window_end = 100):\n",
    "        baseline_values = []\n",
    "        new_data = self.loadData.new_data\n",
    "        count = 0\n",
    "        for key, value in new_data.items():\n",
    "            count += 1\n",
    "       \n",
    "            baseline_values.append(value[0][baseline_window_start:baseline_window_end]*(10**12))\n",
    "\n",
    "        self.baseline_values = baseline_values\n",
    "        return baseline_values      \n",
    "\n",
    "\n",
    "    def calculate_first_window(self,peak_window_start = 100, peak_window_end = 150): \n",
    "            all_first_peaks = []\n",
    "            new_data = self.pc.new_data\n",
    "            count = 0\n",
    "            for key, value in new_data.items():\n",
    "                count += 1\n",
    "        \n",
    "                all_first_peaks.append(value[0][peak_window_start:peak_window_end]*(10**12))\n",
    "\n",
    "            self.all_first_peaks = all_first_peaks\n",
    "            return all_first_peaks\n",
    "\n",
    "    def first_peak(self):\n",
    "        self.calculate_first_window()\n",
    "        all_first_peaks = self.all_first_peaks\n",
    "        \n",
    "\n",
    "        first_peak_list = []\n",
    "        count = 0 \n",
    "        for first_peak in all_first_peaks:\n",
    "\n",
    "            first_peak = min(all_first_peaks[count])\n",
    "            count += 1\n",
    "            first_peak_list.append(first_peak)\n",
    "\n",
    "        self.first_peak = first_peak\n",
    "        return first_peak_list\n",
    "    "
   ]
  },
  {
   "cell_type": "code",
   "execution_count": 42,
   "metadata": {},
   "outputs": [
    {
     "ename": "AttributeError",
     "evalue": "type object 'load_patch' has no attribute 'new_data'",
     "output_type": "error",
     "traceback": [
      "\u001b[0;31m---------------------------------------------------------------------------\u001b[0m",
      "\u001b[0;31mAttributeError\u001b[0m                            Traceback (most recent call last)",
      "Cell \u001b[0;32mIn[42], line 3\u001b[0m\n\u001b[1;32m      1\u001b[0m path \u001b[39m=\u001b[39m \u001b[39m'\u001b[39m\u001b[39m/Users/joyadler/Desktop/FordLab/RawData/20221017_005.mat\u001b[39m\u001b[39m'\u001b[39m\n\u001b[0;32m----> 3\u001b[0m analysis1_patch \u001b[39m=\u001b[39m analysis1_patch(path)\n",
      "Cell \u001b[0;32mIn[41], line 8\u001b[0m, in \u001b[0;36manalysis1_patch.__init__\u001b[0;34m(self, path)\u001b[0m\n\u001b[1;32m      6\u001b[0m \u001b[39mself\u001b[39m\u001b[39m.\u001b[39mpath \u001b[39m=\u001b[39m path\n\u001b[1;32m      7\u001b[0m \u001b[39mself\u001b[39m\u001b[39m.\u001b[39mloadData \u001b[39m=\u001b[39m pc\n\u001b[0;32m----> 8\u001b[0m \u001b[39mself\u001b[39;49m\u001b[39m.\u001b[39;49mcalculate_baseline()\n\u001b[1;32m      9\u001b[0m \u001b[39mself\u001b[39m\u001b[39m.\u001b[39mcalculate_first_window()\n\u001b[1;32m     10\u001b[0m \u001b[39mself\u001b[39m\u001b[39m.\u001b[39mfirst_peak()\n",
      "Cell \u001b[0;32mIn[41], line 15\u001b[0m, in \u001b[0;36manalysis1_patch.calculate_baseline\u001b[0;34m(self, baseline_window_start, baseline_window_end)\u001b[0m\n\u001b[1;32m     13\u001b[0m \u001b[39mdef\u001b[39;00m \u001b[39mcalculate_baseline\u001b[39m(\u001b[39mself\u001b[39m, baseline_window_start \u001b[39m=\u001b[39m \u001b[39m50\u001b[39m, baseline_window_end \u001b[39m=\u001b[39m \u001b[39m100\u001b[39m):\n\u001b[1;32m     14\u001b[0m     baseline_values \u001b[39m=\u001b[39m []\n\u001b[0;32m---> 15\u001b[0m     new_data \u001b[39m=\u001b[39m \u001b[39mself\u001b[39;49m\u001b[39m.\u001b[39;49mloadData\u001b[39m.\u001b[39;49mnew_data\n\u001b[1;32m     16\u001b[0m     count \u001b[39m=\u001b[39m \u001b[39m0\u001b[39m\n\u001b[1;32m     17\u001b[0m     \u001b[39mfor\u001b[39;00m key, value \u001b[39min\u001b[39;00m new_data\u001b[39m.\u001b[39mitems():\n",
      "\u001b[0;31mAttributeError\u001b[0m: type object 'load_patch' has no attribute 'new_data'"
     ]
    }
   ],
   "source": [
    "path = '/Users/joyadler/Desktop/FordLab/RawData/20221017_005.mat'\n",
    "\n",
    "analysis1_patch = analysis1_patch(path)"
   ]
  },
  {
   "cell_type": "code",
   "execution_count": 10,
   "metadata": {},
   "outputs": [],
   "source": [
    "from LoadDataClass import load_patch as pc"
   ]
  },
  {
   "cell_type": "code",
   "execution_count": 34,
   "metadata": {},
   "outputs": [
    {
     "ename": "AttributeError",
     "evalue": "type object 'load_patch' has no attribute 'analysis1_patch'",
     "output_type": "error",
     "traceback": [
      "\u001b[0;31m---------------------------------------------------------------------------\u001b[0m",
      "\u001b[0;31mAttributeError\u001b[0m                            Traceback (most recent call last)",
      "Cell \u001b[0;32mIn[34], line 1\u001b[0m\n\u001b[0;32m----> 1\u001b[0m pc\u001b[39m.\u001b[39;49manalysis1_patch\u001b[39m.\u001b[39mfirst_peak()\n",
      "\u001b[0;31mAttributeError\u001b[0m: type object 'load_patch' has no attribute 'analysis1_patch'"
     ]
    }
   ],
   "source": [
    "pc.analysis1_patch.first_peak()"
   ]
  }
 ],
 "metadata": {
  "kernelspec": {
   "display_name": "base",
   "language": "python",
   "name": "python3"
  },
  "language_info": {
   "codemirror_mode": {
    "name": "ipython",
    "version": 3
   },
   "file_extension": ".py",
   "mimetype": "text/x-python",
   "name": "python",
   "nbconvert_exporter": "python",
   "pygments_lexer": "ipython3",
   "version": "3.10.8"
  },
  "orig_nbformat": 4
 },
 "nbformat": 4,
 "nbformat_minor": 2
}
