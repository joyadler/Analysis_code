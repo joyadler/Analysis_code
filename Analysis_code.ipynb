{
 "cells": [
  {
   "cell_type": "markdown",
   "metadata": {},
   "source": []
  },
  {
   "cell_type": "code",
   "execution_count": 19,
   "metadata": {},
   "outputs": [],
   "source": [
    "from scipy.io import loadmat\n",
    "import matplotlib.pyplot as plt\n",
    "import numpy as np\n",
    "import pandas as pd\n",
    "\n"
   ]
  },
  {
   "cell_type": "markdown",
   "metadata": {},
   "source": [
    "# Read in files"
   ]
  },
  {
   "cell_type": "code",
   "execution_count": 20,
   "metadata": {},
   "outputs": [],
   "source": [
    "data = loadmat(\"/Users/joyadler/Desktop/FordLab/RawData/20221017_001.mat\")"
   ]
  },
  {
   "cell_type": "code",
   "execution_count": 21,
   "metadata": {},
   "outputs": [
    {
     "name": "stdout",
     "output_type": "stream",
     "text": [
      "total sweeps: 79\n"
     ]
    }
   ],
   "source": [
    "print(\"total sweeps: \" + str(len(data)))\n",
    "\n"
   ]
  },
  {
   "cell_type": "code",
   "execution_count": 69,
   "metadata": {},
   "outputs": [
    {
     "name": "stdout",
     "output_type": "stream",
     "text": [
      "__header__\n",
      "b'MATLAB 5.0 MAT-file, Platform: MACOSX, Created on: Wed Jul 19 2023  15:20:05\\x00\\x00 \\x00P\\x00E\\x00A\\x00Q\\x00X\\x00/\\x002\\x000\\x002\\x002\\x001\\x000\\x001\\x007\\x00 \\x000\\x000\\x001'\n",
      " \n",
      "__version__\n",
      "1.0\n",
      " \n",
      "__globals__\n",
      "[]\n",
      " \n",
      "c001_Time\u0000\u0000\u0000PF\u0000\u0000\n",
      "[[1.0000e-04 2.0000e-04 3.0000e-04 ... 1.7998e+00 1.7999e+00 1.8000e+00]]\n",
      " \n",
      "c002_Current_Amp1\u0000\u0000\u0000p\u00001\u0000\n",
      "[[-6.83462500e-11 -6.80118750e-11 -6.11237500e-11 ... -1.62840625e-10\n",
      "  -1.58493750e-10 -1.59898125e-10]]\n",
      " \n",
      "c003_Current_Amp1\u0000\u0000\u0000p\u00001\u0000\n",
      "[[-3.06956250e-11 -3.63131250e-11 -3.81187500e-11 ... -1.44516875e-10\n",
      "  -1.33148125e-10 -1.43446875e-10]]\n",
      " \n",
      "c004_Current_Amp1\u0000\u0000\u0000p\u00001\u0000\n",
      "[[-5.89837500e-11 -5.38343750e-11 -6.96168750e-11 ... -1.44115625e-10\n",
      "  -1.42911875e-10 -1.40771875e-10]]\n",
      " \n",
      "c005_Current_Amp1\u0000\u0000\u0000p\u00001\u0000\n",
      "[[-6.19262500e-11 -6.03881250e-11 -6.78781250e-11 ... -1.87785000e-10\n",
      "  -1.77954375e-10 -1.90861250e-10]]\n",
      " \n",
      "c006_Current_Amp1\u0000\u0000\u0000p\u00001\u0000\n",
      "[[-7.26262500e-11 -6.19931250e-11 -7.33618750e-11 ... -1.64512500e-10\n",
      "  -1.71066250e-10 -1.69795625e-10]]\n",
      " \n",
      "c007_Current_Amp1\u0000\u0000\u0000p\u00001\u0000\n",
      "[[-8.10525000e-11 -7.47662500e-11 -7.45656250e-11 ... -2.07446250e-10\n",
      "  -2.07312500e-10 -2.06576875e-10]]\n",
      " \n",
      "c008_Current_Amp1\u0000\u0000\u0000p\u00001\u0000\n",
      "[[-9.11506250e-11 -7.70400000e-11 -9.95100000e-11 ... -1.97682500e-10\n",
      "  -2.05440000e-10 -2.04838125e-10]]\n",
      " \n",
      "c009_Current_Amp1\u0000\u0000\u0000p\u00001\u0000\n",
      "[[-8.01831250e-11 -8.71381250e-11 -8.60681250e-11 ... -2.28177500e-10\n",
      "  -2.32524375e-10 -2.27441875e-10]]\n",
      " \n",
      "c010_Current_Amp1\u0000\u0000\u0000p\u00001\u0000\n",
      "[[-9.83731250e-11 -9.13512500e-11 -1.00780625e-10 ... -1.57490625e-10\n",
      "  -1.71133125e-10 -1.67990000e-10]]\n",
      " \n",
      "c011_Current_Amp1\u0000\u0000\u0000p\u00001\u0000\n",
      "[[-7.69731250e-11 -8.90775000e-11 -1.01783750e-10 ... -2.25301875e-10\n",
      "  -2.21490000e-10 -2.18280000e-10]]\n",
      " \n",
      "c012_Current_Amp1\u0000\u0000\u0000p\u00001\u0000\n",
      "[[-9.07493750e-11 -8.86762500e-11 -9.29562500e-11 ... -2.13130625e-10\n",
      "  -2.19149375e-10 -2.14936250e-10]]\n",
      " \n",
      "c013_Current_Amp1\u0000\u0000\u0000p\u00001\u0000\n",
      "[[-8.52656250e-11 -9.37587500e-11 -9.20868750e-11 ... -2.25034375e-10\n",
      "  -1.96746250e-10 -2.17811875e-10]]\n",
      " \n",
      "c014_Current_Amp1\u0000\u0000\u0000p\u00001\u0000\n",
      "[[-9.97106250e-11 -1.01181875e-10 -9.11506250e-11 ... -2.07713750e-10\n",
      "  -1.98418125e-10 -2.09185000e-10]]\n",
      " \n",
      "c015_Current_Amp1\u0000\u0000\u0000p\u00001\u0000\n",
      "[[-9.53637500e-11 -1.02786875e-10 -9.70356250e-11 ... -2.18146250e-10\n",
      "  -2.16407500e-10 -2.26505625e-10]]\n",
      " \n",
      "c016_Current_Amp1\u0000\u0000\u0000p\u00001\u0000\n",
      "[[-8.24568750e-11 -9.53637500e-11 -9.06825000e-11 ... -2.21490000e-10\n",
      "  -2.23696875e-10 -2.31053125e-10]]\n",
      " \n",
      "c017_Current_Amp1\u0000\u0000\u0000p\u00001\u0000\n",
      "[[-1.14289375e-10 -1.03656250e-10 -1.10076250e-10 ... -2.34998750e-10\n",
      "  -2.66095625e-10 -2.44294375e-10]]\n",
      " \n",
      "c018_Current_Amp1\u0000\u0000\u0000p\u00001\u0000\n",
      "[[-1.05461875e-10 -9.21537500e-11 -1.02519375e-10 ... -2.66162500e-10\n",
      "  -2.65493750e-10 -2.71044375e-10]]\n",
      " \n",
      "c019_Current_Amp1\u0000\u0000\u0000p\u00001\u0000\n",
      "[[-1.07802500e-10 -9.79718750e-11 -1.00981250e-10 ... -2.63888750e-10\n",
      "  -2.62150000e-10 -2.66095625e-10]]\n",
      " \n",
      "c020_Current_Amp1\u0000\u0000\u0000p\u00001\u0000\n",
      "[[-1.14222500e-10 -1.18636250e-10 -1.14356250e-10 ... -2.57201250e-10\n",
      "  -2.57535625e-10 -2.64423750e-10]]\n",
      " \n",
      "c021_Current_Amp1\u0000\u0000\u0000p\u00001\u0000\n",
      "[[-9.98443750e-11 -1.05930000e-10 -1.11213125e-10 ... -2.24432500e-10\n",
      "  -2.20085625e-10 -2.23696875e-10]]\n",
      " \n",
      "c022_Current_Amp1\u0000\u0000\u0000p\u00001\u0000\n",
      "[[-1.04793125e-10 -1.11280000e-10 -1.09206875e-10 ... -2.05573750e-10\n",
      "  -2.04370000e-10 -2.08850625e-10]]\n",
      " \n",
      "c023_Current_Amp1\u0000\u0000\u0000p\u00001\u0000\n",
      "[[-1.04860000e-10 -1.07401250e-10 -1.03589375e-10 ... -2.57201250e-10\n",
      "  -2.49978750e-10 -2.63153125e-10]]\n",
      " \n",
      "c024_Current_Amp1\u0000\u0000\u0000p\u00001\u0000\n",
      "[[-1.13486875e-10 -9.75706250e-11 -1.08538125e-10 ... -2.39746875e-10\n",
      "  -2.28980000e-10 -2.38141875e-10]]\n",
      " \n",
      "c025_Current_Amp1\u0000\u0000\u0000p\u00001\u0000\n",
      "[[-1.13754375e-10 -1.10945625e-10 -1.26326875e-10 ... -2.41285000e-10\n",
      "  -2.40750000e-10 -2.37606875e-10]]\n",
      " \n",
      "c026_Current_Amp1\u0000\u0000\u0000p\u00001\u0000\n",
      "[[-1.18970625e-10 -1.13353125e-10 -1.20776250e-10 ... -2.13264375e-10\n",
      "  -2.06376250e-10 -2.12060625e-10]]\n",
      " \n",
      "c027_Current_Amp1\u0000\u0000\u0000p\u00001\u0000\n",
      "[[-9.95768750e-11 -1.01382500e-10 -1.05930000e-10 ... -1.96746250e-10\n",
      "  -2.01561250e-10 -2.03901875e-10]]\n",
      " \n"
     ]
    }
   ],
   "source": [
    "for i in range(30):\n",
    "    first_sweep_key = list(data.keys())[i]\n",
    "    first_value = data[first_sweep_key]\n",
    "\n",
    "    print(first_sweep_key)\n",
    "    print(first_value)\n",
    "    print(' ')"
   ]
  },
  {
   "cell_type": "code",
   "execution_count": 76,
   "metadata": {},
   "outputs": [
    {
     "name": "stdout",
     "output_type": "stream",
     "text": [
      "c002_Current_Amp1\u0000\u0000\u0000p\u00001\u0000\n",
      "[[-6.83462500e-11 -6.80118750e-11 -6.11237500e-11 ... -1.62840625e-10\n",
      "  -1.58493750e-10 -1.59898125e-10]]\n",
      " \n",
      "c003_Current_Amp1\u0000\u0000\u0000p\u00001\u0000\n",
      "[[-3.06956250e-11 -3.63131250e-11 -3.81187500e-11 ... -1.44516875e-10\n",
      "  -1.33148125e-10 -1.43446875e-10]]\n",
      " \n",
      "c004_Current_Amp1\u0000\u0000\u0000p\u00001\u0000\n",
      "[[-5.89837500e-11 -5.38343750e-11 -6.96168750e-11 ... -1.44115625e-10\n",
      "  -1.42911875e-10 -1.40771875e-10]]\n",
      " \n",
      "c005_Current_Amp1\u0000\u0000\u0000p\u00001\u0000\n",
      "[[-6.19262500e-11 -6.03881250e-11 -6.78781250e-11 ... -1.87785000e-10\n",
      "  -1.77954375e-10 -1.90861250e-10]]\n",
      " \n",
      "c006_Current_Amp1\u0000\u0000\u0000p\u00001\u0000\n",
      "[[-7.26262500e-11 -6.19931250e-11 -7.33618750e-11 ... -1.64512500e-10\n",
      "  -1.71066250e-10 -1.69795625e-10]]\n",
      " \n",
      "c007_Current_Amp1\u0000\u0000\u0000p\u00001\u0000\n",
      "[[-8.10525000e-11 -7.47662500e-11 -7.45656250e-11 ... -2.07446250e-10\n",
      "  -2.07312500e-10 -2.06576875e-10]]\n",
      " \n",
      "c008_Current_Amp1\u0000\u0000\u0000p\u00001\u0000\n",
      "[[-9.11506250e-11 -7.70400000e-11 -9.95100000e-11 ... -1.97682500e-10\n",
      "  -2.05440000e-10 -2.04838125e-10]]\n",
      " \n",
      "c009_Current_Amp1\u0000\u0000\u0000p\u00001\u0000\n",
      "[[-8.01831250e-11 -8.71381250e-11 -8.60681250e-11 ... -2.28177500e-10\n",
      "  -2.32524375e-10 -2.27441875e-10]]\n",
      " \n",
      "c010_Current_Amp1\u0000\u0000\u0000p\u00001\u0000\n",
      "[[-9.83731250e-11 -9.13512500e-11 -1.00780625e-10 ... -1.57490625e-10\n",
      "  -1.71133125e-10 -1.67990000e-10]]\n",
      " \n",
      "c011_Current_Amp1\u0000\u0000\u0000p\u00001\u0000\n",
      "[[-7.69731250e-11 -8.90775000e-11 -1.01783750e-10 ... -2.25301875e-10\n",
      "  -2.21490000e-10 -2.18280000e-10]]\n",
      " \n",
      "c012_Current_Amp1\u0000\u0000\u0000p\u00001\u0000\n",
      "[[-9.07493750e-11 -8.86762500e-11 -9.29562500e-11 ... -2.13130625e-10\n",
      "  -2.19149375e-10 -2.14936250e-10]]\n",
      " \n",
      "c013_Current_Amp1\u0000\u0000\u0000p\u00001\u0000\n",
      "[[-8.52656250e-11 -9.37587500e-11 -9.20868750e-11 ... -2.25034375e-10\n",
      "  -1.96746250e-10 -2.17811875e-10]]\n",
      " \n",
      "c014_Current_Amp1\u0000\u0000\u0000p\u00001\u0000\n",
      "[[-9.97106250e-11 -1.01181875e-10 -9.11506250e-11 ... -2.07713750e-10\n",
      "  -1.98418125e-10 -2.09185000e-10]]\n",
      " \n",
      "c015_Current_Amp1\u0000\u0000\u0000p\u00001\u0000\n",
      "[[-9.53637500e-11 -1.02786875e-10 -9.70356250e-11 ... -2.18146250e-10\n",
      "  -2.16407500e-10 -2.26505625e-10]]\n",
      " \n",
      "c016_Current_Amp1\u0000\u0000\u0000p\u00001\u0000\n",
      "[[-8.24568750e-11 -9.53637500e-11 -9.06825000e-11 ... -2.21490000e-10\n",
      "  -2.23696875e-10 -2.31053125e-10]]\n",
      " \n",
      "c017_Current_Amp1\u0000\u0000\u0000p\u00001\u0000\n",
      "[[-1.14289375e-10 -1.03656250e-10 -1.10076250e-10 ... -2.34998750e-10\n",
      "  -2.66095625e-10 -2.44294375e-10]]\n",
      " \n",
      "c018_Current_Amp1\u0000\u0000\u0000p\u00001\u0000\n",
      "[[-1.05461875e-10 -9.21537500e-11 -1.02519375e-10 ... -2.66162500e-10\n",
      "  -2.65493750e-10 -2.71044375e-10]]\n",
      " \n",
      "c019_Current_Amp1\u0000\u0000\u0000p\u00001\u0000\n",
      "[[-1.07802500e-10 -9.79718750e-11 -1.00981250e-10 ... -2.63888750e-10\n",
      "  -2.62150000e-10 -2.66095625e-10]]\n",
      " \n",
      "c020_Current_Amp1\u0000\u0000\u0000p\u00001\u0000\n",
      "[[-1.14222500e-10 -1.18636250e-10 -1.14356250e-10 ... -2.57201250e-10\n",
      "  -2.57535625e-10 -2.64423750e-10]]\n",
      " \n",
      "c021_Current_Amp1\u0000\u0000\u0000p\u00001\u0000\n",
      "[[-9.98443750e-11 -1.05930000e-10 -1.11213125e-10 ... -2.24432500e-10\n",
      "  -2.20085625e-10 -2.23696875e-10]]\n",
      " \n",
      "c022_Current_Amp1\u0000\u0000\u0000p\u00001\u0000\n",
      "[[-1.04793125e-10 -1.11280000e-10 -1.09206875e-10 ... -2.05573750e-10\n",
      "  -2.04370000e-10 -2.08850625e-10]]\n",
      " \n",
      "c023_Current_Amp1\u0000\u0000\u0000p\u00001\u0000\n",
      "[[-1.04860000e-10 -1.07401250e-10 -1.03589375e-10 ... -2.57201250e-10\n",
      "  -2.49978750e-10 -2.63153125e-10]]\n",
      " \n",
      "c024_Current_Amp1\u0000\u0000\u0000p\u00001\u0000\n",
      "[[-1.13486875e-10 -9.75706250e-11 -1.08538125e-10 ... -2.39746875e-10\n",
      "  -2.28980000e-10 -2.38141875e-10]]\n",
      " \n",
      "c025_Current_Amp1\u0000\u0000\u0000p\u00001\u0000\n",
      "[[-1.13754375e-10 -1.10945625e-10 -1.26326875e-10 ... -2.41285000e-10\n",
      "  -2.40750000e-10 -2.37606875e-10]]\n",
      " \n",
      "c026_Current_Amp1\u0000\u0000\u0000p\u00001\u0000\n",
      "[[-1.18970625e-10 -1.13353125e-10 -1.20776250e-10 ... -2.13264375e-10\n",
      "  -2.06376250e-10 -2.12060625e-10]]\n",
      " \n",
      "c027_Current_Amp1\u0000\u0000\u0000p\u00001\u0000\n",
      "[[-9.95768750e-11 -1.01382500e-10 -1.05930000e-10 ... -1.96746250e-10\n",
      "  -2.01561250e-10 -2.03901875e-10]]\n",
      " \n",
      "c028_Current_Amp1\u0000\u0000\u0000p\u00001\u0000\n",
      "[[-1.19572500e-10 -1.23919375e-10 -1.19104375e-10 ... -1.75212500e-10\n",
      "  -1.83772500e-10 -1.71133125e-10]]\n",
      " \n",
      "c029_Current_Amp1\u0000\u0000\u0000p\u00001\u0000\n",
      "[[-1.18970625e-10 -9.73700000e-11 -1.07401250e-10 ... -1.85912500e-10\n",
      "  -1.87116250e-10 -1.93201875e-10]]\n",
      " \n",
      "c030_Current_Amp1\u0000\u0000\u0000p\u00001\u0000\n",
      "[[-8.7606250e-11 -1.0245250e-10 -9.2153750e-11 ... -1.4592125e-10\n",
      "  -1.4779375e-10 -1.2960375e-10]]\n",
      " \n",
      "c031_Current_Amp1\u0000\u0000\u0000p\u00001\u0000\n",
      "[[-9.36918750e-11 -7.52343750e-11 -8.27912500e-11 ... -1.38765625e-10\n",
      "  -1.38096875e-10 -1.43446875e-10]]\n",
      " \n"
     ]
    }
   ],
   "source": [
    "new_data = data.copy()  # Create a copy of the original dictionary\n",
    "\n",
    "for i in range(4):  # Remove the first three keys from the copy\n",
    "    first_sweep_key = list(new_data.keys())[0]\n",
    "    new_data.pop(first_sweep_key)\n",
    "\n",
    "for i in range(30):  # Modify this line if the dictionary has fewer than 30 keys left\n",
    "    first_sweep_key = list(new_data.keys())[i]\n",
    "    first_value = new_data[first_sweep_key]\n",
    "\n",
    "    print(first_sweep_key)\n",
    "    print(first_value)\n",
    "    print(' ')\n"
   ]
  },
  {
   "cell_type": "code",
   "execution_count": null,
   "metadata": {},
   "outputs": [],
   "source": []
  },
  {
   "cell_type": "code",
   "execution_count": 75,
   "metadata": {},
   "outputs": [
    {
     "name": "stdout",
     "output_type": "stream",
     "text": [
      "dict_keys(['__header__', '__version__', '__globals__', 'c001_Time\\x00\\x00\\x00PF\\x00\\x00', 'c002_Current_Amp1\\x00\\x00\\x00p\\x001\\x00', 'c003_Current_Amp1\\x00\\x00\\x00p\\x001\\x00', 'c004_Current_Amp1\\x00\\x00\\x00p\\x001\\x00', 'c005_Current_Amp1\\x00\\x00\\x00p\\x001\\x00', 'c006_Current_Amp1\\x00\\x00\\x00p\\x001\\x00', 'c007_Current_Amp1\\x00\\x00\\x00p\\x001\\x00', 'c008_Current_Amp1\\x00\\x00\\x00p\\x001\\x00', 'c009_Current_Amp1\\x00\\x00\\x00p\\x001\\x00', 'c010_Current_Amp1\\x00\\x00\\x00p\\x001\\x00', 'c011_Current_Amp1\\x00\\x00\\x00p\\x001\\x00', 'c012_Current_Amp1\\x00\\x00\\x00p\\x001\\x00', 'c013_Current_Amp1\\x00\\x00\\x00p\\x001\\x00', 'c014_Current_Amp1\\x00\\x00\\x00p\\x001\\x00', 'c015_Current_Amp1\\x00\\x00\\x00p\\x001\\x00', 'c016_Current_Amp1\\x00\\x00\\x00p\\x001\\x00', 'c017_Current_Amp1\\x00\\x00\\x00p\\x001\\x00', 'c018_Current_Amp1\\x00\\x00\\x00p\\x001\\x00', 'c019_Current_Amp1\\x00\\x00\\x00p\\x001\\x00', 'c020_Current_Amp1\\x00\\x00\\x00p\\x001\\x00', 'c021_Current_Amp1\\x00\\x00\\x00p\\x001\\x00', 'c022_Current_Amp1\\x00\\x00\\x00p\\x001\\x00', 'c023_Current_Amp1\\x00\\x00\\x00p\\x001\\x00', 'c024_Current_Amp1\\x00\\x00\\x00p\\x001\\x00', 'c025_Current_Amp1\\x00\\x00\\x00p\\x001\\x00', 'c026_Current_Amp1\\x00\\x00\\x00p\\x001\\x00', 'c027_Current_Amp1\\x00\\x00\\x00p\\x001\\x00', 'c028_Current_Amp1\\x00\\x00\\x00p\\x001\\x00', 'c029_Current_Amp1\\x00\\x00\\x00p\\x001\\x00', 'c030_Current_Amp1\\x00\\x00\\x00p\\x001\\x00', 'c031_Current_Amp1\\x00\\x00\\x00p\\x001\\x00', 'c032_Current_Amp1\\x00\\x00\\x00p\\x001\\x00', 'c033_Current_Amp1\\x00\\x00\\x00p\\x001\\x00', 'c034_Current_Amp1\\x00\\x00\\x00p\\x001\\x00', 'c035_Current_Amp1\\x00\\x00\\x00p\\x001\\x00', 'c036_Current_Amp1\\x00\\x00\\x00p\\x001\\x00', 'c037_Current_Amp1\\x00\\x00\\x00p\\x001\\x00', 'c038_Current_Amp1\\x00\\x00\\x00p\\x001\\x00', 'c039_Current_Amp1\\x00\\x00\\x00p\\x001\\x00', 'c040_Current_Amp1\\x00\\x00\\x00p\\x001\\x00', 'c041_Current_Amp1\\x00\\x00\\x00p\\x001\\x00', 'c042_Current_Amp1\\x00\\x00\\x00p\\x001\\x00', 'c043_Current_Amp1\\x00\\x00\\x00p\\x001\\x00', 'c044_Current_Amp1\\x00\\x00\\x00p\\x001\\x00', 'c045_Current_Amp1\\x00\\x00\\x00p\\x001\\x00', 'c046_Current_Amp1\\x00\\x00\\x00p\\x001\\x00', 'c047_Current_Amp1\\x00\\x00\\x00p\\x001\\x00', 'c048_Current_Amp1\\x00\\x00\\x00p\\x001\\x00', 'c049_Current_Amp1\\x00\\x00\\x00p\\x001\\x00', 'c050_Current_Amp1\\x00\\x00\\x00p\\x001\\x00', 'c051_Current_Amp1\\x00\\x00\\x00p\\x001\\x00', 'c052_Current_Amp1\\x00\\x00\\x00p\\x001\\x00', 'c053_Current_Amp1\\x00\\x00\\x00p\\x001\\x00', 'c054_Current_Amp1\\x00\\x00\\x00p\\x001\\x00', 'c055_Current_Amp1\\x00\\x00\\x00p\\x001\\x00', 'c056_Current_Amp1\\x00\\x00\\x00p\\x001\\x00', 'c057_Current_Amp1\\x00\\x00\\x00p\\x001\\x00', 'c058_Current_Amp1\\x00\\x00\\x00p\\x001\\x00', 'c059_Current_Amp1\\x00\\x00\\x00p\\x001\\x00', 'c060_Current_Amp1\\x00\\x00\\x00p\\x001\\x00', 'c061_Current_Amp1\\x00\\x00\\x00p\\x001\\x00', 'c062_Current_Amp1\\x00\\x00\\x00p\\x001\\x00', 'c063_Current_Amp1\\x00\\x00\\x00p\\x001\\x00', 'c064_Current_Amp1\\x00\\x00\\x00p\\x001\\x00', 'c065_Current_Amp1\\x00\\x00\\x00p\\x001\\x00', 'c066_Current_Amp1\\x00\\x00\\x00p\\x001\\x00', 'c067_Current_Amp1\\x00\\x00\\x00p\\x001\\x00', 'c068_Current_Amp1\\x00\\x00\\x00p\\x001\\x00', 'c069_Current_Amp1\\x00\\x00\\x00p\\x001\\x00', 'c070_Current_Amp1\\x00\\x00\\x00p\\x001\\x00', 'c071_Current_Amp1\\x00\\x00\\x00p\\x001\\x00', 'c072_Current_Amp1\\x00\\x00\\x00p\\x001\\x00', 'c073_Current_Amp1\\x00\\x00\\x00p\\x001\\x00', 'c074_Current_Amp1\\x00\\x00\\x00p\\x001\\x00', 'c075_Current_Amp1\\x00\\x00\\x00p\\x001\\x00', 'c076_Current_Amp1\\x00\\x00\\x00p\\x001\\x00'])\n",
      "[[1.0000e-04 2.0000e-04 3.0000e-04 ... 1.7998e+00 1.7999e+00 1.8000e+00]]\n",
      "[1.0000e-04 2.0000e-04 3.0000e-04 ... 1.7998e+00 1.7999e+00 1.8000e+00]\n"
     ]
    }
   ],
   "source": [
    "# print(type(new_data))\n",
    "# new_data['c002_Current_Amp1p1']\n",
    "\n",
    "print(data.keys())\n",
    "times = data['c001_Time\\x00\\x00\\x00PF\\x00\\x00']\n",
    "print(times)\n",
    "\n",
    "times_0 = times[0]\n",
    "print(times_0)\n"
   ]
  },
  {
   "cell_type": "code",
   "execution_count": 85,
   "metadata": {},
   "outputs": [
    {
     "data": {
      "image/png": "[encoded data removed]",
      "text/plain": [
       "<Figure size 1000x600 with 1 Axes>"
      ]
     },
     "metadata": {},
     "output_type": "display_data"
    }
   ],
   "source": [
    "plt.figure(figsize=(10, 6))  # Create a new figure with a custom size (optional)\n",
    "\n",
    "# Plot picoamp data over time for each trial\n",
    "for trial_name, pA in new_data.items():\n",
    "    pA = np.array(pA).flatten()  # flatten the array if it is 2D\n",
    "    times = np.linspace(0, len(pA)/10, len(pA))  # create a time array\n",
    "    plt.plot(times, pA * 1e12)  # multiplying by 1e12 to convert the unit from A to pA\n",
    "    break  # Break the loop after the first iteration\n",
    "\n",
    "plt.ylim(-1000, 1000) # adjust this according to your data range in pA\n",
    "plt.xlabel('Time (ms)')  # Add a label to the x-axis\n",
    "plt.ylabel('Picoamps (pA)')  # Add a label to the y-axis\n",
    "plt.title('Changes in the picoamps within a cell during patch clamping')  # Add a title\n",
    "\n",
    "plt.grid(True)  # Show grid lines (optional)\n",
    "\n",
    "plt.show()  # Display the plot"
   ]
  },
  {
   "cell_type": "code",
   "execution_count": 81,
   "metadata": {},
   "outputs": [
    {
     "name": "stdout",
     "output_type": "stream",
     "text": [
      "[[-6.83462500e-11 -6.80118750e-11 -6.11237500e-11 ... -1.62840625e-10\n",
      "  -1.58493750e-10 -1.59898125e-10]]\n"
     ]
    },
    {
     "data": {
      "image/png": "[encoded data removed]",
      "text/plain": [
       "<Figure size 1000x600 with 1 Axes>"
      ]
     },
     "metadata": {},
     "output_type": "display_data"
    }
   ],
   "source": [
    "# Assuming you have your picoamp data and time data in these arrays\n",
    "# For instance:\n",
    "# picoamps = np.array([...])\n",
    "\n",
    "# time = np.linspace(0, 400, 4000)\n",
    "\n",
    "plt.figure(figsize=(10, 6))  # Create a new figure with a custom size (optional)\n",
    "\n",
    "# for trial_name, pA in new_data.items():\n",
    "#     time = np.linspace(0, len(pA)/10, len(pA))  # Create a time array matching the picoamps array\n",
    "#     plt.plot(time, pA, label=trial_name)\n",
    "#     break\n",
    "\n",
    "\n",
    "# Plot picoamp data over time for each trial\n",
    "for trial_name, pA in new_data.items():\n",
    "    print(pA)\n",
    "    plt.plot(times, pA)\n",
    "    break  # Break the loop after the first iteration\n",
    "\n",
    "plt.ylim(-0.00000001, 0.000000002) \n",
    "plt.xlabel('Time (ms)')  # Add a label to the x-axis\n",
    "plt.ylabel('pA')  # Add a label to the y-axis\n",
    "plt.title('Changes in the picoamps within a cell during patch clamping')  # Add a title\n",
    "\n",
    "# plt.legend()  # Show the legend (optional, useful if you have multiple series)\n",
    "\n",
    "plt.grid(True)  # Show grid lines (optional)\n",
    "\n",
    "plt.show()  # Display the plot\n"
   ]
  },
  {
   "cell_type": "code",
   "execution_count": null,
   "metadata": {},
   "outputs": [],
   "source": [
    "# data storage structures \n",
    "array = []\n",
    "list = []\n",
    "dic = {}\n",
    "\n",
    "imports = .np or .plt"
   ]
  },
  {
   "cell_type": "markdown",
   "metadata": {},
   "source": [
    "# Array "
   ]
  },
  {
   "cell_type": "code",
   "execution_count": 7,
   "metadata": {},
   "outputs": [
    {
     "name": "stdout",
     "output_type": "stream",
     "text": [
      "1\n",
      "[[1, 2, 3], [4, 5, 6], [7, 8, 9]]\n"
     ]
    },
    {
     "ename": "AttributeError",
     "evalue": "module 'pandas' has no attribute 'nested_arrary'",
     "output_type": "error",
     "traceback": [
      "\u001b[0;31m---------------------------------------------------------------------------\u001b[0m",
      "\u001b[0;31mAttributeError\u001b[0m                            Traceback (most recent call last)",
      "Cell \u001b[0;32mIn[7], line 9\u001b[0m\n\u001b[1;32m      6\u001b[0m nested_arrary \u001b[39m=\u001b[39m [[\u001b[39m1\u001b[39m,\u001b[39m2\u001b[39m,\u001b[39m3\u001b[39m],[\u001b[39m4\u001b[39m,\u001b[39m5\u001b[39m,\u001b[39m6\u001b[39m],[\u001b[39m7\u001b[39m,\u001b[39m8\u001b[39m,\u001b[39m9\u001b[39m]]\n\u001b[1;32m      7\u001b[0m \u001b[39mprint\u001b[39m(nested_arrary)\n\u001b[0;32m----> 9\u001b[0m df \u001b[39m=\u001b[39m pd\u001b[39m.\u001b[39;49mnested_arrary\n\u001b[1;32m     10\u001b[0m \u001b[39mprint\u001b[39m(df)\n",
      "File \u001b[0;32m~/anaconda3/lib/python3.10/site-packages/pandas/__init__.py:264\u001b[0m, in \u001b[0;36m__getattr__\u001b[0;34m(name)\u001b[0m\n\u001b[1;32m    260\u001b[0m     \u001b[39mfrom\u001b[39;00m \u001b[39mpandas\u001b[39;00m\u001b[39m.\u001b[39;00m\u001b[39mcore\u001b[39;00m\u001b[39m.\u001b[39;00m\u001b[39marrays\u001b[39;00m\u001b[39m.\u001b[39;00m\u001b[39msparse\u001b[39;00m \u001b[39mimport\u001b[39;00m SparseArray \u001b[39mas\u001b[39;00m _SparseArray\n\u001b[1;32m    262\u001b[0m     \u001b[39mreturn\u001b[39;00m _SparseArray\n\u001b[0;32m--> 264\u001b[0m \u001b[39mraise\u001b[39;00m \u001b[39mAttributeError\u001b[39;00m(\u001b[39mf\u001b[39m\u001b[39m\"\u001b[39m\u001b[39mmodule \u001b[39m\u001b[39m'\u001b[39m\u001b[39mpandas\u001b[39m\u001b[39m'\u001b[39m\u001b[39m has no attribute \u001b[39m\u001b[39m'\u001b[39m\u001b[39m{\u001b[39;00mname\u001b[39m}\u001b[39;00m\u001b[39m'\u001b[39m\u001b[39m\"\u001b[39m)\n",
      "\u001b[0;31mAttributeError\u001b[0m: module 'pandas' has no attribute 'nested_arrary'"
     ]
    }
   ],
   "source": [
    "\n"
   ]
  },
  {
   "cell_type": "markdown",
   "metadata": {},
   "source": [
    "# Data Frames"
   ]
  },
  {
   "cell_type": "markdown",
   "metadata": {},
   "source": []
  }
 ],
 "metadata": {
  "kernelspec": {
   "display_name": "Python 3",
   "language": "python",
   "name": "python3"
  },
  "language_info": {
   "codemirror_mode": {
    "name": "ipython",
    "version": 3
   },
   "file_extension": ".py",
   "mimetype": "text/x-python",
   "name": "python",
   "nbconvert_exporter": "python",
   "pygments_lexer": "ipython3",
   "version": "3.10.8"
  },
  "orig_nbformat": 4
 },
 "nbformat": 4,
 "nbformat_minor": 2
}
